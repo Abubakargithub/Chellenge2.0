{
  "nbformat": 4,
  "nbformat_minor": 0,
  "metadata": {
    "colab": {
      "name": "Copy of image_classified_project.ipynb",
      "version": "0.3.2",
      "provenance": [],
      "collapsed_sections": [],
      "include_colab_link": true
    },
    "kernelspec": {
      "name": "python3",
      "display_name": "Python 3"
    },
    "accelerator": "GPU"
  },
  "cells": [
    {
      "cell_type": "markdown",
      "metadata": {
        "id": "view-in-github",
        "colab_type": "text"
      },
      "source": [
        "<a href=\"https://colab.research.google.com/github/Abubakargithub/Chellenge2.0/blob/master/Copy_of_image_classified_project.ipynb\" target=\"_parent\"><img src=\"https://colab.research.google.com/assets/colab-badge.svg\" alt=\"Open In Colab\"/></a>"
      ]
    },
    {
      "metadata": {
        "id": "HSDmAwFl3x73",
        "colab_type": "code",
        "colab": {}
      },
      "cell_type": "code",
      "source": [
        "\n"
      ],
      "execution_count": 0,
      "outputs": []
    },
    {
      "metadata": {
        "id": "oDBXBJ5X3_C-",
        "colab_type": "code",
        "colab": {}
      },
      "cell_type": "code",
      "source": [
        "# Imports here\n",
        "import torch\n",
        "from torch import nn\n",
        "from torch import optim\n",
        "from torchvision import datasets, transforms, models\n",
        "from collections import OrderedDict\n",
        "from PIL import Image\n",
        "import numpy as np\n",
        "from torch.autograd import Variable\n",
        "\n",
        "import matplotlib.pyplot as plt\n",
        "%matplotlib inline"
      ],
      "execution_count": 0,
      "outputs": []
    },
    {
      "metadata": {
        "id": "HKUti6ss4mbS",
        "colab_type": "code",
        "colab": {}
      },
      "cell_type": "code",
      "source": [
        "data_dir = 'flower_data'\n",
        "train_dir = data_dir + '/train'\n",
        "valid_dir = data_dir + '/valid'\n"
      ],
      "execution_count": 0,
      "outputs": []
    },
    {
      "metadata": {
        "id": "MLi5-zQn5B40",
        "colab_type": "code",
        "colab": {}
      },
      "cell_type": "code",
      "source": [
        "# TODO: Define your transforms for the training, validation, and testing sets\n",
        "train_transforms = transforms.Compose([transforms.RandomRotation(30),\n",
        "                                       transforms.Resize(255),\n",
        "                                       transforms.RandomResizedCrop(224),\n",
        "                                       transforms.RandomHorizontalFlip(),\n",
        "                                       transforms.ToTensor(),\n",
        "                                       transforms.Normalize([0.485, 0.456, 0.406], \n",
        "                                                            [0.229, 0.224, 0.225])])\n",
        "\n",
        "valid_transforms = transforms.Compose([transforms.Resize(255),\n",
        "                                 transforms.CenterCrop(224),\n",
        "                                 transforms.ToTensor(),\n",
        "                                 transforms.Normalize([0.485, 0.456, 0.406], \n",
        "                                                      [0.229, 0.224, 0.225])])\n",
        "\n",
        "\n",
        "# TODO: Load the datasets with ImageFolder\n",
        "train_data = datasets.ImageFolder(train_dir, transform = train_transforms)\n",
        "valid_data = datasets.ImageFolder(valid_dir, transform = valid_transforms)\n",
        "# TODO: Using the image datasets and the trainforms, define the dataloaders\n",
        "trainloader = torch.utils.data.DataLoader(train_data, batch_size=64, shuffle=True)\n",
        "validloader = torch.utils.data.DataLoader(valid_data, batch_size=32)\n"
      ],
      "execution_count": 0,
      "outputs": []
    },
    {
      "metadata": {
        "id": "-l0TDgk75Luf",
        "colab_type": "code",
        "outputId": "56f55746-c3ca-453b-9391-e86e5ebeb338",
        "colab": {
          "base_uri": "https://localhost:8080/",
          "height": 1751
        }
      },
      "cell_type": "code",
      "source": [
        "import json\n",
        "\n",
        "with open('cat_to_name.json', 'r') as f:\n",
        "    cat_to_name = json.load(f)\n",
        "cat_to_name\n"
      ],
      "execution_count": 0,
      "outputs": [
        {
          "output_type": "execute_result",
          "data": {
            "text/plain": [
              "{'1': 'pink primrose',\n",
              " '10': 'globe thistle',\n",
              " '100': 'blanket flower',\n",
              " '101': 'trumpet creeper',\n",
              " '102': 'blackberry lily',\n",
              " '11': 'snapdragon',\n",
              " '12': \"colt's foot\",\n",
              " '13': 'king protea',\n",
              " '14': 'spear thistle',\n",
              " '15': 'yellow iris',\n",
              " '16': 'globe-flower',\n",
              " '17': 'purple coneflower',\n",
              " '18': 'peruvian lily',\n",
              " '19': 'balloon flower',\n",
              " '2': 'hard-leaved pocket orchid',\n",
              " '20': 'giant white arum lily',\n",
              " '21': 'fire lily',\n",
              " '22': 'pincushion flower',\n",
              " '23': 'fritillary',\n",
              " '24': 'red ginger',\n",
              " '25': 'grape hyacinth',\n",
              " '26': 'corn poppy',\n",
              " '27': 'prince of wales feathers',\n",
              " '28': 'stemless gentian',\n",
              " '29': 'artichoke',\n",
              " '3': 'canterbury bells',\n",
              " '30': 'sweet william',\n",
              " '31': 'carnation',\n",
              " '32': 'garden phlox',\n",
              " '33': 'love in the mist',\n",
              " '34': 'mexican aster',\n",
              " '35': 'alpine sea holly',\n",
              " '36': 'ruby-lipped cattleya',\n",
              " '37': 'cape flower',\n",
              " '38': 'great masterwort',\n",
              " '39': 'siam tulip',\n",
              " '4': 'sweet pea',\n",
              " '40': 'lenten rose',\n",
              " '41': 'barbeton daisy',\n",
              " '42': 'daffodil',\n",
              " '43': 'sword lily',\n",
              " '44': 'poinsettia',\n",
              " '45': 'bolero deep blue',\n",
              " '46': 'wallflower',\n",
              " '47': 'marigold',\n",
              " '48': 'buttercup',\n",
              " '49': 'oxeye daisy',\n",
              " '5': 'english marigold',\n",
              " '50': 'common dandelion',\n",
              " '51': 'petunia',\n",
              " '52': 'wild pansy',\n",
              " '53': 'primula',\n",
              " '54': 'sunflower',\n",
              " '55': 'pelargonium',\n",
              " '56': 'bishop of llandaff',\n",
              " '57': 'gaura',\n",
              " '58': 'geranium',\n",
              " '59': 'orange dahlia',\n",
              " '6': 'tiger lily',\n",
              " '60': 'pink-yellow dahlia',\n",
              " '61': 'cautleya spicata',\n",
              " '62': 'japanese anemone',\n",
              " '63': 'black-eyed susan',\n",
              " '64': 'silverbush',\n",
              " '65': 'californian poppy',\n",
              " '66': 'osteospermum',\n",
              " '67': 'spring crocus',\n",
              " '68': 'bearded iris',\n",
              " '69': 'windflower',\n",
              " '7': 'moon orchid',\n",
              " '70': 'tree poppy',\n",
              " '71': 'gazania',\n",
              " '72': 'azalea',\n",
              " '73': 'water lily',\n",
              " '74': 'rose',\n",
              " '75': 'thorn apple',\n",
              " '76': 'morning glory',\n",
              " '77': 'passion flower',\n",
              " '78': 'lotus lotus',\n",
              " '79': 'toad lily',\n",
              " '8': 'bird of paradise',\n",
              " '80': 'anthurium',\n",
              " '81': 'frangipani',\n",
              " '82': 'clematis',\n",
              " '83': 'hibiscus',\n",
              " '84': 'columbine',\n",
              " '85': 'desert-rose',\n",
              " '86': 'tree mallow',\n",
              " '87': 'magnolia',\n",
              " '88': 'cyclamen',\n",
              " '89': 'watercress',\n",
              " '9': 'monkshood',\n",
              " '90': 'canna lily',\n",
              " '91': 'hippeastrum',\n",
              " '92': 'bee balm',\n",
              " '93': 'ball moss',\n",
              " '94': 'foxglove',\n",
              " '95': 'bougainvillea',\n",
              " '96': 'camellia',\n",
              " '97': 'mallow',\n",
              " '98': 'mexican petunia',\n",
              " '99': 'bromelia'}"
            ]
          },
          "metadata": {
            "tags": []
          },
          "execution_count": 15
        }
      ]
    },
    {
      "metadata": {
        "id": "-9DL2JhE5UWk",
        "colab_type": "code",
        "colab": {}
      },
      "cell_type": "code",
      "source": [
        "# TODO: Build and train your network\n",
        "model = models.vgg16(pretrained = True)"
      ],
      "execution_count": 0,
      "outputs": []
    },
    {
      "metadata": {
        "id": "FJQDsCtP5eBS",
        "colab_type": "code",
        "colab": {}
      },
      "cell_type": "code",
      "source": [
        "for param in model.parameters():\n",
        "    param.requires_grad = False\n",
        "\n",
        "\n",
        "classifier = nn.Sequential(OrderedDict([\n",
        "                          ('fc1', nn.Linear(25088, 4096)),\n",
        "                          ('relu1', nn.ReLU()),\n",
        "                          ('dropout1', nn.Dropout(p=0.5)),\n",
        "                          ('fc2', nn.Linear(4096, 512)),\n",
        "                          ('relu2', nn.ReLU()),\n",
        "                          ('dropout2', nn.Dropout(p=0.5)),\n",
        "                          ('fc3', nn.Linear(512, 102)),\n",
        "                          ('output', nn.LogSoftmax(dim=1))\n",
        "                          ]))\n",
        "    \n",
        "model.classifier = classifier"
      ],
      "execution_count": 0,
      "outputs": []
    },
    {
      "metadata": {
        "id": "dsB3MOTT5pSE",
        "colab_type": "code",
        "colab": {}
      },
      "cell_type": "code",
      "source": [
        "criterion = nn.NLLLoss()\n",
        "optimizer = optim.Adam(model.classifier.parameters(), lr=0.001)"
      ],
      "execution_count": 0,
      "outputs": []
    },
    {
      "metadata": {
        "id": "zwZtV0pP50tA",
        "colab_type": "code",
        "colab": {}
      },
      "cell_type": "code",
      "source": [
        "# Criterion and optimizer\n",
        "criterion = nn.NLLLoss()\n",
        "optimizer = optim.Adam(model.classifier.parameters(), lr=0.001)"
      ],
      "execution_count": 0,
      "outputs": []
    },
    {
      "metadata": {
        "id": "6cRr0ZPn57cB",
        "colab_type": "code",
        "colab": {}
      },
      "cell_type": "code",
      "source": [
        "def validation(model, valid_loader, criterion):\n",
        "    valid_loss = 0\n",
        "    accuracy = 0\n",
        "    model.to('cuda')\n",
        "    for images, labels in valid_loader:\n",
        "        images, labels = images.to('cuda'), labels.to('cuda')\n",
        "        output = model.forward(images)\n",
        "        valid_loss += criterion(output, labels).item()\n",
        "        \n",
        "        ps = torch.exp(output)\n",
        "        equality = (labels.data == ps.max(dim=1)[1])\n",
        "        accuracy += equality.type(torch.FloatTensor).mean()\n",
        "    return valid_loss, accuracy"
      ],
      "execution_count": 0,
      "outputs": []
    },
    {
      "metadata": {
        "id": "DVrAqV-e6Cqw",
        "colab_type": "code",
        "outputId": "9736c9c5-d937-4370-c0f4-e4c9a3e2a410",
        "colab": {
          "base_uri": "https://localhost:8080/",
          "height": 442
        }
      },
      "cell_type": "code",
      "source": [
        "epochs = 10\n",
        "print_every = 40\n",
        "steps = 0\n",
        "\n",
        "model.to('cuda')\n",
        "\n",
        "for e in range(epochs):\n",
        "    running_loss = 0\n",
        "    model.train()\n",
        "    for inputs, labels in trainloader:\n",
        "        steps+=1\n",
        "        \n",
        "        inputs, labels = inputs.to('cuda'), labels.to('cuda')\n",
        "        optimizer.zero_grad()\n",
        "        \n",
        "        outputs = model.forward(inputs)\n",
        "        loss = criterion(outputs, labels)\n",
        "        loss.backward()\n",
        "        optimizer.step()\n",
        "        \n",
        "        running_loss += loss.item()\n",
        "        \n",
        "        if steps % print_every == 0:\n",
        "            model.eval()\n",
        "            \n",
        "            # Turn off gradients for validation, saves memory and computations\n",
        "            with torch.no_grad():\n",
        "                valid_loss, accuracy = validation(model, validloader, criterion)\n",
        "                \n",
        "            print(\"Epoch: {}/{}.. \".format(e+1, epochs),\n",
        "                  \"Training Loss: {:.3f}.. \".format(running_loss/print_every),\n",
        "                  \"Validation Loss: {:.3f}.. \".format(valid_loss/len(validloader)),\n",
        "                  \"Validation Accuracy: {:.3f}\".format(accuracy/len(validloader)))\n",
        "            \n",
        "            running_loss = 0\n",
        "            \n",
        "            model.train()"
      ],
      "execution_count": 0,
      "outputs": [
        {
          "output_type": "stream",
          "text": [
            "Epoch: 1/10..  Training Loss: 4.547..  Validation Loss: 3.420..  Validation Accuracy: 0.242\n",
            "Epoch: 1/10..  Training Loss: 3.506..  Validation Loss: 2.270..  Validation Accuracy: 0.471\n",
            "Epoch: 2/10..  Training Loss: 1.119..  Validation Loss: 1.673..  Validation Accuracy: 0.562\n",
            "Epoch: 2/10..  Training Loss: 2.378..  Validation Loss: 1.285..  Validation Accuracy: 0.648\n",
            "Epoch: 2/10..  Training Loss: 2.230..  Validation Loss: 1.120..  Validation Accuracy: 0.699\n",
            "Epoch: 3/10..  Training Loss: 1.747..  Validation Loss: 0.993..  Validation Accuracy: 0.733\n",
            "Epoch: 3/10..  Training Loss: 1.848..  Validation Loss: 0.834..  Validation Accuracy: 0.776\n",
            "Epoch: 4/10..  Training Loss: 0.488..  Validation Loss: 0.774..  Validation Accuracy: 0.802\n",
            "Epoch: 4/10..  Training Loss: 1.705..  Validation Loss: 0.766..  Validation Accuracy: 0.783\n",
            "Epoch: 4/10..  Training Loss: 1.731..  Validation Loss: 0.737..  Validation Accuracy: 0.807\n",
            "Epoch: 5/10..  Training Loss: 1.141..  Validation Loss: 0.668..  Validation Accuracy: 0.814\n",
            "Epoch: 5/10..  Training Loss: 1.552..  Validation Loss: 0.694..  Validation Accuracy: 0.830\n",
            "Epoch: 6/10..  Training Loss: 0.189..  Validation Loss: 0.692..  Validation Accuracy: 0.816\n",
            "Epoch: 6/10..  Training Loss: 1.554..  Validation Loss: 0.581..  Validation Accuracy: 0.849\n",
            "Epoch: 6/10..  Training Loss: 1.517..  Validation Loss: 0.595..  Validation Accuracy: 0.848\n",
            "Epoch: 7/10..  Training Loss: 0.807..  Validation Loss: 0.586..  Validation Accuracy: 0.839\n",
            "Epoch: 7/10..  Training Loss: 1.444..  Validation Loss: 0.548..  Validation Accuracy: 0.862\n",
            "Epoch: 7/10..  Training Loss: 1.476..  Validation Loss: 0.592..  Validation Accuracy: 0.835\n",
            "Epoch: 8/10..  Training Loss: 1.453..  Validation Loss: 0.566..  Validation Accuracy: 0.855\n",
            "Epoch: 8/10..  Training Loss: 1.442..  Validation Loss: 0.527..  Validation Accuracy: 0.864\n",
            "Epoch: 9/10..  Training Loss: 0.559..  Validation Loss: 0.510..  Validation Accuracy: 0.862\n",
            "Epoch: 9/10..  Training Loss: 1.415..  Validation Loss: 0.530..  Validation Accuracy: 0.850\n",
            "Epoch: 9/10..  Training Loss: 1.406..  Validation Loss: 0.571..  Validation Accuracy: 0.850\n",
            "Epoch: 10/10..  Training Loss: 1.162..  Validation Loss: 0.546..  Validation Accuracy: 0.853\n",
            "Epoch: 10/10..  Training Loss: 1.350..  Validation Loss: 0.527..  Validation Accuracy: 0.868\n"
          ],
          "name": "stdout"
        }
      ]
    },
    {
      "metadata": {
        "id": "ILJSmX1Z6JLb",
        "colab_type": "code",
        "outputId": "3518df82-1ec2-406a-d457-7198288e4c8e",
        "colab": {
          "base_uri": "https://localhost:8080/",
          "height": 34
        }
      },
      "cell_type": "code",
      "source": [
        "# TODO: Do validation on the test set\n",
        "device = torch.device(\"cuda:0\" if torch.cuda.is_available() else \"cpu\")\n",
        "device\n",
        "\n",
        "# Do validation on the test set\n",
        "correct = 0\n",
        "total = 0\n",
        "with torch.no_grad():\n",
        "    model.eval()\n",
        "    for data in trainloader:\n",
        "        images, labels = data\n",
        "        images, labels = images.to(device), labels.to(device)\n",
        "        outputs = model(images)\n",
        "        _, predicted = torch.max(outputs.data, 1)\n",
        "        total += labels.size(0)\n",
        "        correct += (predicted == labels).sum().item()\n",
        "\n",
        "print('Accuracy achieved by the network on test images is: %d%%' % (100 * correct / total))"
      ],
      "execution_count": 0,
      "outputs": [
        {
          "output_type": "stream",
          "text": [
            "Accuracy achieved by the network on test images is: 80%\n"
          ],
          "name": "stdout"
        }
      ]
    },
    {
      "metadata": {
        "id": "MkH_gM2AGNld",
        "colab_type": "code",
        "colab": {}
      },
      "cell_type": "code",
      "source": [
        "# TODO: Save the checkpoint \n",
        "model.class_to_idx = train_data.class_to_idx\n",
        "checkpoint = {\n",
        "    'epoch' : 10,\n",
        "    'arch' : 'vgg16',\n",
        "    'class_to_idx': model.class_to_idx,\n",
        "    'model_state_dic' : model.state_dict(),\n",
        "    'optimizer_state_dic' : optimizer.state_dict(),\n",
        "    'classifier' : model.classifier\n",
        "}\n",
        "torch.save(checkpoint, 'my_trained_model.pth')"
      ],
      "execution_count": 0,
      "outputs": []
    },
    {
      "metadata": {
        "id": "6KyPXDx-IHMB",
        "colab_type": "code",
        "outputId": "5d15e151-c988-4d51-a713-3a6db9207826",
        "colab": {
          "base_uri": "https://localhost:8080/",
          "height": 130
        }
      },
      "cell_type": "code",
      "source": [
        "from google.colab import drive\n",
        "     drive.mount('/content/gdrive/file_mount=true')"
      ],
      "execution_count": 0,
      "outputs": [
        {
          "output_type": "error",
          "ename": "IndentationError",
          "evalue": "ignored",
          "traceback": [
            "\u001b[0;36m  File \u001b[0;32m\"<ipython-input-32-83810818b894>\"\u001b[0;36m, line \u001b[0;32m2\u001b[0m\n\u001b[0;31m    drive.mount('/content/gdrive/file_mount=true')\u001b[0m\n\u001b[0m    ^\u001b[0m\n\u001b[0;31mIndentationError\u001b[0m\u001b[0;31m:\u001b[0m unexpected indent\n"
          ]
        }
      ]
    },
    {
      "metadata": {
        "id": "n08TUJadRRLv",
        "colab_type": "code",
        "colab": {}
      },
      "cell_type": "code",
      "source": [
        "drive_path='/content/gdrive/My Drive/'\n",
        "file_path= ('/content/my_trained_model.pth')"
      ],
      "execution_count": 0,
      "outputs": []
    },
    {
      "metadata": {
        "id": "MMgsgPKkSH4b",
        "colab_type": "code",
        "outputId": "de0208e5-2a20-4bf2-9d52-1268fb90adf5",
        "colab": {
          "base_uri": "https://localhost:8080/",
          "height": 442
        }
      },
      "cell_type": "code",
      "source": [
        "from google.colab import files\n",
        "files.download(\"my_trained_model.pth\")"
      ],
      "execution_count": 0,
      "outputs": [
        {
          "output_type": "stream",
          "text": [
            "----------------------------------------\n",
            "Exception happened during processing of request from ('::ffff:127.0.0.1', 52434, 0, 0)\n",
            "Traceback (most recent call last):\n",
            "  File \"/usr/lib/python3.6/socketserver.py\", line 317, in _handle_request_noblock\n",
            "    self.process_request(request, client_address)\n",
            "  File \"/usr/lib/python3.6/socketserver.py\", line 348, in process_request\n",
            "    self.finish_request(request, client_address)\n",
            "  File \"/usr/lib/python3.6/socketserver.py\", line 361, in finish_request\n",
            "    self.RequestHandlerClass(request, client_address, self)\n",
            "  File \"/usr/lib/python3.6/socketserver.py\", line 721, in __init__\n",
            "    self.handle()\n",
            "  File \"/usr/lib/python3.6/http/server.py\", line 418, in handle\n",
            "    self.handle_one_request()\n",
            "  File \"/usr/lib/python3.6/http/server.py\", line 406, in handle_one_request\n",
            "    method()\n",
            "  File \"/usr/lib/python3.6/http/server.py\", line 639, in do_GET\n",
            "    self.copyfile(f, self.wfile)\n",
            "  File \"/usr/lib/python3.6/http/server.py\", line 800, in copyfile\n",
            "    shutil.copyfileobj(source, outputfile)\n",
            "  File \"/usr/lib/python3.6/shutil.py\", line 82, in copyfileobj\n",
            "    fdst.write(buf)\n",
            "  File \"/usr/lib/python3.6/socketserver.py\", line 800, in write\n",
            "    self._sock.sendall(b)\n",
            "ConnectionResetError: [Errno 104] Connection reset by peer\n",
            "----------------------------------------\n"
          ],
          "name": "stderr"
        }
      ]
    },
    {
      "metadata": {
        "id": "M7Ajz8CoVKSR",
        "colab_type": "code",
        "colab": {}
      },
      "cell_type": "code",
      "source": [
        ""
      ],
      "execution_count": 0,
      "outputs": []
    }
  ]
}